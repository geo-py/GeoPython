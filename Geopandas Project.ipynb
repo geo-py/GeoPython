{
 "cells": [
  {
   "cell_type": "markdown",
   "metadata": {},
   "source": [
    "\n",
    "\n",
    "## Natural Earth data (World Countries)"
   ]
  },
  {
   "cell_type": "code",
   "execution_count": 16,
   "metadata": {
    "collapsed": true
   },
   "outputs": [],
   "source": [
    "import matplotlib.pyplot as plt\n",
    "import geopandas as gpd\n",
    "import os"
   ]
  },
  {
   "cell_type": "markdown",
   "metadata": {},
   "source": [
    "### Importing data"
   ]
  },
  {
   "cell_type": "code",
   "execution_count": 17,
   "metadata": {
    "collapsed": true
   },
   "outputs": [],
   "source": [
    "file = 'C:/Users/Shakur/Documents/scripts/Projects_DEC17/DATA/ne_10m_admin_0_countries.shp'\n",
    "df_shp = gpd.read_file(file)\n"
   ]
  },
  {
   "cell_type": "markdown",
   "metadata": {},
   "source": [
    "### Explore the data"
   ]
  },
  {
   "cell_type": "code",
   "execution_count": 18,
   "metadata": {},
   "outputs": [
    {
     "data": {
      "text/plain": [
       "{'init': 'epsg:4326'}"
      ]
     },
     "execution_count": 18,
     "metadata": {},
     "output_type": "execute_result"
    }
   ],
   "source": [
    "df_shp.crs"
   ]
  },
  {
   "cell_type": "code",
   "execution_count": 4,
   "metadata": {},
   "outputs": [
    {
     "data": {
      "text/html": [
       "<div>\n",
       "<style>\n",
       "    .dataframe thead tr:only-child th {\n",
       "        text-align: right;\n",
       "    }\n",
       "\n",
       "    .dataframe thead th {\n",
       "        text-align: left;\n",
       "    }\n",
       "\n",
       "    .dataframe tbody tr th {\n",
       "        vertical-align: top;\n",
       "    }\n",
       "</style>\n",
       "<table border=\"1\" class=\"dataframe\">\n",
       "  <thead>\n",
       "    <tr style=\"text-align: right;\">\n",
       "      <th></th>\n",
       "      <th>scalerank</th>\n",
       "      <th>featurecla</th>\n",
       "      <th>LABELRANK</th>\n",
       "      <th>SOVEREIGNT</th>\n",
       "      <th>SOV_A3</th>\n",
       "      <th>ADM0_DIF</th>\n",
       "      <th>LEVEL</th>\n",
       "      <th>TYPE</th>\n",
       "      <th>ADMIN</th>\n",
       "      <th>ADM0_A3</th>\n",
       "      <th>...</th>\n",
       "      <th>REGION_WB</th>\n",
       "      <th>NAME_LEN</th>\n",
       "      <th>LONG_LEN</th>\n",
       "      <th>ABBREV_LEN</th>\n",
       "      <th>TINY</th>\n",
       "      <th>HOMEPART</th>\n",
       "      <th>MIN_ZOOM</th>\n",
       "      <th>MIN_LABEL</th>\n",
       "      <th>MAX_LABEL</th>\n",
       "      <th>geometry</th>\n",
       "    </tr>\n",
       "  </thead>\n",
       "  <tbody>\n",
       "    <tr>\n",
       "      <th>0</th>\n",
       "      <td>3</td>\n",
       "      <td>Admin-0 country</td>\n",
       "      <td>5.0</td>\n",
       "      <td>Netherlands</td>\n",
       "      <td>NL1</td>\n",
       "      <td>1.0</td>\n",
       "      <td>2.0</td>\n",
       "      <td>Country</td>\n",
       "      <td>Aruba</td>\n",
       "      <td>ABW</td>\n",
       "      <td>...</td>\n",
       "      <td>Latin America &amp; Caribbean</td>\n",
       "      <td>5.0</td>\n",
       "      <td>5.0</td>\n",
       "      <td>5.0</td>\n",
       "      <td>4.0</td>\n",
       "      <td>-99.0</td>\n",
       "      <td>0.0</td>\n",
       "      <td>5.0</td>\n",
       "      <td>10.0</td>\n",
       "      <td>POLYGON ((-69.99693762899992 12.57758209800004...</td>\n",
       "    </tr>\n",
       "    <tr>\n",
       "      <th>1</th>\n",
       "      <td>0</td>\n",
       "      <td>Admin-0 country</td>\n",
       "      <td>3.0</td>\n",
       "      <td>Afghanistan</td>\n",
       "      <td>AFG</td>\n",
       "      <td>0.0</td>\n",
       "      <td>2.0</td>\n",
       "      <td>Sovereign country</td>\n",
       "      <td>Afghanistan</td>\n",
       "      <td>AFG</td>\n",
       "      <td>...</td>\n",
       "      <td>South Asia</td>\n",
       "      <td>11.0</td>\n",
       "      <td>11.0</td>\n",
       "      <td>4.0</td>\n",
       "      <td>-99.0</td>\n",
       "      <td>1.0</td>\n",
       "      <td>0.0</td>\n",
       "      <td>3.0</td>\n",
       "      <td>7.0</td>\n",
       "      <td>POLYGON ((71.04980228700009 38.40866445000009,...</td>\n",
       "    </tr>\n",
       "    <tr>\n",
       "      <th>2</th>\n",
       "      <td>0</td>\n",
       "      <td>Admin-0 country</td>\n",
       "      <td>3.0</td>\n",
       "      <td>Angola</td>\n",
       "      <td>AGO</td>\n",
       "      <td>0.0</td>\n",
       "      <td>2.0</td>\n",
       "      <td>Sovereign country</td>\n",
       "      <td>Angola</td>\n",
       "      <td>AGO</td>\n",
       "      <td>...</td>\n",
       "      <td>Sub-Saharan Africa</td>\n",
       "      <td>6.0</td>\n",
       "      <td>6.0</td>\n",
       "      <td>4.0</td>\n",
       "      <td>-99.0</td>\n",
       "      <td>1.0</td>\n",
       "      <td>0.0</td>\n",
       "      <td>3.0</td>\n",
       "      <td>7.0</td>\n",
       "      <td>(POLYGON ((11.73751945100014 -16.6925779829998...</td>\n",
       "    </tr>\n",
       "    <tr>\n",
       "      <th>3</th>\n",
       "      <td>3</td>\n",
       "      <td>Admin-0 country</td>\n",
       "      <td>6.0</td>\n",
       "      <td>United Kingdom</td>\n",
       "      <td>GB1</td>\n",
       "      <td>1.0</td>\n",
       "      <td>2.0</td>\n",
       "      <td>Dependency</td>\n",
       "      <td>Anguilla</td>\n",
       "      <td>AIA</td>\n",
       "      <td>...</td>\n",
       "      <td>Latin America &amp; Caribbean</td>\n",
       "      <td>8.0</td>\n",
       "      <td>8.0</td>\n",
       "      <td>4.0</td>\n",
       "      <td>-99.0</td>\n",
       "      <td>-99.0</td>\n",
       "      <td>0.0</td>\n",
       "      <td>5.0</td>\n",
       "      <td>10.0</td>\n",
       "      <td>(POLYGON ((-63.03766842399995 18.2129580750000...</td>\n",
       "    </tr>\n",
       "    <tr>\n",
       "      <th>4</th>\n",
       "      <td>0</td>\n",
       "      <td>Admin-0 country</td>\n",
       "      <td>6.0</td>\n",
       "      <td>Albania</td>\n",
       "      <td>ALB</td>\n",
       "      <td>0.0</td>\n",
       "      <td>2.0</td>\n",
       "      <td>Sovereign country</td>\n",
       "      <td>Albania</td>\n",
       "      <td>ALB</td>\n",
       "      <td>...</td>\n",
       "      <td>Europe &amp; Central Asia</td>\n",
       "      <td>7.0</td>\n",
       "      <td>7.0</td>\n",
       "      <td>4.0</td>\n",
       "      <td>-99.0</td>\n",
       "      <td>1.0</td>\n",
       "      <td>0.0</td>\n",
       "      <td>5.0</td>\n",
       "      <td>10.0</td>\n",
       "      <td>POLYGON ((19.74776574700007 42.57890085900007,...</td>\n",
       "    </tr>\n",
       "  </tbody>\n",
       "</table>\n",
       "<p>5 rows × 72 columns</p>\n",
       "</div>"
      ],
      "text/plain": [
       "   scalerank       featurecla  LABELRANK      SOVEREIGNT SOV_A3  ADM0_DIF  \\\n",
       "0          3  Admin-0 country        5.0     Netherlands    NL1       1.0   \n",
       "1          0  Admin-0 country        3.0     Afghanistan    AFG       0.0   \n",
       "2          0  Admin-0 country        3.0          Angola    AGO       0.0   \n",
       "3          3  Admin-0 country        6.0  United Kingdom    GB1       1.0   \n",
       "4          0  Admin-0 country        6.0         Albania    ALB       0.0   \n",
       "\n",
       "   LEVEL               TYPE        ADMIN ADM0_A3  \\\n",
       "0    2.0            Country        Aruba     ABW   \n",
       "1    2.0  Sovereign country  Afghanistan     AFG   \n",
       "2    2.0  Sovereign country       Angola     AGO   \n",
       "3    2.0         Dependency     Anguilla     AIA   \n",
       "4    2.0  Sovereign country      Albania     ALB   \n",
       "\n",
       "                         ...                          \\\n",
       "0                        ...                           \n",
       "1                        ...                           \n",
       "2                        ...                           \n",
       "3                        ...                           \n",
       "4                        ...                           \n",
       "\n",
       "                   REGION_WB NAME_LEN LONG_LEN  ABBREV_LEN  TINY HOMEPART  \\\n",
       "0  Latin America & Caribbean      5.0      5.0         5.0   4.0    -99.0   \n",
       "1                 South Asia     11.0     11.0         4.0 -99.0      1.0   \n",
       "2         Sub-Saharan Africa      6.0      6.0         4.0 -99.0      1.0   \n",
       "3  Latin America & Caribbean      8.0      8.0         4.0 -99.0    -99.0   \n",
       "4      Europe & Central Asia      7.0      7.0         4.0 -99.0      1.0   \n",
       "\n",
       "   MIN_ZOOM MIN_LABEL MAX_LABEL  \\\n",
       "0       0.0       5.0      10.0   \n",
       "1       0.0       3.0       7.0   \n",
       "2       0.0       3.0       7.0   \n",
       "3       0.0       5.0      10.0   \n",
       "4       0.0       5.0      10.0   \n",
       "\n",
       "                                            geometry  \n",
       "0  POLYGON ((-69.99693762899992 12.57758209800004...  \n",
       "1  POLYGON ((71.04980228700009 38.40866445000009,...  \n",
       "2  (POLYGON ((11.73751945100014 -16.6925779829998...  \n",
       "3  (POLYGON ((-63.03766842399995 18.2129580750000...  \n",
       "4  POLYGON ((19.74776574700007 42.57890085900007,...  \n",
       "\n",
       "[5 rows x 72 columns]"
      ]
     },
     "execution_count": 4,
     "metadata": {},
     "output_type": "execute_result"
    }
   ],
   "source": [
    "df_shp.head()"
   ]
  },
  {
   "cell_type": "code",
   "execution_count": 19,
   "metadata": {},
   "outputs": [
    {
     "data": {
      "text/plain": [
       "Index(['scalerank', 'featurecla', 'LABELRANK', 'SOVEREIGNT', 'SOV_A3',\n",
       "       'ADM0_DIF', 'LEVEL', 'TYPE', 'ADMIN', 'ADM0_A3', 'GEOU_DIF', 'GEOUNIT',\n",
       "       'GU_A3', 'SU_DIF', 'SUBUNIT', 'SU_A3', 'BRK_DIFF', 'NAME', 'NAME_LONG',\n",
       "       'BRK_A3', 'BRK_NAME', 'BRK_GROUP', 'ABBREV', 'POSTAL', 'FORMAL_EN',\n",
       "       'FORMAL_FR', 'NAME_CIAWF', 'NOTE_ADM0', 'NOTE_BRK', 'NAME_SORT',\n",
       "       'NAME_ALT', 'MAPCOLOR7', 'MAPCOLOR8', 'MAPCOLOR9', 'MAPCOLOR13',\n",
       "       'POP_EST', 'POP_RANK', 'GDP_MD_EST', 'POP_YEAR', 'LASTCENSUS',\n",
       "       'GDP_YEAR', 'ECONOMY', 'INCOME_GRP', 'WIKIPEDIA', 'FIPS_10_', 'ISO_A2',\n",
       "       'ISO_A3', 'ISO_A3_EH', 'ISO_N3', 'UN_A3', 'WB_A2', 'WB_A3', 'WOE_ID',\n",
       "       'WOE_ID_EH', 'WOE_NOTE', 'ADM0_A3_IS', 'ADM0_A3_US', 'ADM0_A3_UN',\n",
       "       'ADM0_A3_WB', 'CONTINENT', 'REGION_UN', 'SUBREGION', 'REGION_WB',\n",
       "       'NAME_LEN', 'LONG_LEN', 'ABBREV_LEN', 'TINY', 'HOMEPART', 'MIN_ZOOM',\n",
       "       'MIN_LABEL', 'MAX_LABEL', 'geometry'],\n",
       "      dtype='object')"
      ]
     },
     "execution_count": 19,
     "metadata": {},
     "output_type": "execute_result"
    }
   ],
   "source": [
    "df_shp.columns"
   ]
  },
  {
   "cell_type": "code",
   "execution_count": 20,
   "metadata": {},
   "outputs": [
    {
     "data": {
      "image/png": "[encoded data removed]",
      "text/plain": [
       "<matplotlib.figure.Figure at 0x1b21ab68780>"
      ]
     },
     "metadata": {},
     "output_type": "display_data"
    }
   ],
   "source": [
    "# Geopandas also provides coordinate based indexing with cx\n",
    "# Find a way to see the northern part of the world. didnot suceed first time\n",
    "\n",
    "southern_world = df_shp.cx[:, :0]\n",
    "southern_world.plot()\n",
    "plt.show()"
   ]
  },
  {
   "cell_type": "markdown",
   "metadata": {},
   "source": [
    "### Choose columns"
   ]
  },
  {
   "cell_type": "code",
   "execution_count": 21,
   "metadata": {},
   "outputs": [],
   "source": [
    "# You can either create a new data frame with selected colums or\n",
    "# drop columns from the dataframe\n",
    "\n",
    "# Let us try drop\n",
    "\n",
    "df_shp.drop(['scalerank', 'featurecla', 'LABELRANK', 'SOVEREIGNT', 'SOV_A3',\n",
    "       'ADM0_DIF', 'LEVEL', 'TYPE', 'ADMIN', 'ADM0_A3', 'GEOU_DIF', 'GEOUNIT',\n",
    "       'GU_A3', 'SU_DIF', 'SUBUNIT', 'SU_A3', 'BRK_DIFF','BRK_A3', 'BRK_NAME', 'BRK_GROUP', 'ABBREV', 'POSTAL', 'FORMAL_EN',\n",
    "       'FORMAL_FR', 'NAME_CIAWF', 'NOTE_ADM0', 'NOTE_BRK', 'NAME_SORT',\n",
    "       'NAME_ALT', 'MAPCOLOR7', 'MAPCOLOR8', 'MAPCOLOR9', 'MAPCOLOR13',\n",
    "       'ISO_A3', 'ISO_A3_EH', 'ISO_N3', 'UN_A3', 'WB_A2', 'WB_A3', 'WOE_ID',\n",
    "       'WOE_ID_EH', 'WOE_NOTE', 'ADM0_A3_IS', 'ADM0_A3_US', 'ADM0_A3_UN',\n",
    "       'ADM0_A3_WB', 'REGION_UN', 'REGION_WB',\n",
    "       'NAME_LEN', 'LONG_LEN', 'ABBREV_LEN', 'TINY', 'HOMEPART', 'MIN_ZOOM',\n",
    "       'MIN_LABEL', 'MAX_LABEL'], axis=1, inplace=True)"
   ]
  },
  {
   "cell_type": "code",
   "execution_count": 22,
   "metadata": {},
   "outputs": [
    {
     "data": {
      "text/html": [
       "<div>\n",
       "<style>\n",
       "    .dataframe thead tr:only-child th {\n",
       "        text-align: right;\n",
       "    }\n",
       "\n",
       "    .dataframe thead th {\n",
       "        text-align: left;\n",
       "    }\n",
       "\n",
       "    .dataframe tbody tr th {\n",
       "        vertical-align: top;\n",
       "    }\n",
       "</style>\n",
       "<table border=\"1\" class=\"dataframe\">\n",
       "  <thead>\n",
       "    <tr style=\"text-align: right;\">\n",
       "      <th></th>\n",
       "      <th>NAME</th>\n",
       "      <th>NAME_LONG</th>\n",
       "      <th>POP_EST</th>\n",
       "      <th>POP_RANK</th>\n",
       "      <th>GDP_MD_EST</th>\n",
       "      <th>POP_YEAR</th>\n",
       "      <th>LASTCENSUS</th>\n",
       "      <th>GDP_YEAR</th>\n",
       "      <th>ECONOMY</th>\n",
       "      <th>INCOME_GRP</th>\n",
       "      <th>WIKIPEDIA</th>\n",
       "      <th>FIPS_10_</th>\n",
       "      <th>ISO_A2</th>\n",
       "      <th>CONTINENT</th>\n",
       "      <th>SUBREGION</th>\n",
       "      <th>geometry</th>\n",
       "    </tr>\n",
       "  </thead>\n",
       "  <tbody>\n",
       "    <tr>\n",
       "      <th>0</th>\n",
       "      <td>Aruba</td>\n",
       "      <td>Aruba</td>\n",
       "      <td>115120.0</td>\n",
       "      <td>9.0</td>\n",
       "      <td>2516.0</td>\n",
       "      <td>2017.0</td>\n",
       "      <td>2010.0</td>\n",
       "      <td>2009.0</td>\n",
       "      <td>6. Developing region</td>\n",
       "      <td>2. High income: nonOECD</td>\n",
       "      <td>-99.0</td>\n",
       "      <td>AA</td>\n",
       "      <td>AW</td>\n",
       "      <td>North America</td>\n",
       "      <td>Caribbean</td>\n",
       "      <td>POLYGON ((-69.99693762899992 12.57758209800004...</td>\n",
       "    </tr>\n",
       "    <tr>\n",
       "      <th>1</th>\n",
       "      <td>Afghanistan</td>\n",
       "      <td>Afghanistan</td>\n",
       "      <td>34124811.0</td>\n",
       "      <td>15.0</td>\n",
       "      <td>64080.0</td>\n",
       "      <td>2017.0</td>\n",
       "      <td>1979.0</td>\n",
       "      <td>2016.0</td>\n",
       "      <td>7. Least developed region</td>\n",
       "      <td>5. Low income</td>\n",
       "      <td>-99.0</td>\n",
       "      <td>AF</td>\n",
       "      <td>AF</td>\n",
       "      <td>Asia</td>\n",
       "      <td>Southern Asia</td>\n",
       "      <td>POLYGON ((71.04980228700009 38.40866445000009,...</td>\n",
       "    </tr>\n",
       "    <tr>\n",
       "      <th>2</th>\n",
       "      <td>Angola</td>\n",
       "      <td>Angola</td>\n",
       "      <td>29310273.0</td>\n",
       "      <td>15.0</td>\n",
       "      <td>189000.0</td>\n",
       "      <td>2017.0</td>\n",
       "      <td>1970.0</td>\n",
       "      <td>2016.0</td>\n",
       "      <td>7. Least developed region</td>\n",
       "      <td>3. Upper middle income</td>\n",
       "      <td>-99.0</td>\n",
       "      <td>AO</td>\n",
       "      <td>AO</td>\n",
       "      <td>Africa</td>\n",
       "      <td>Middle Africa</td>\n",
       "      <td>(POLYGON ((11.73751945100014 -16.6925779829998...</td>\n",
       "    </tr>\n",
       "    <tr>\n",
       "      <th>3</th>\n",
       "      <td>Anguilla</td>\n",
       "      <td>Anguilla</td>\n",
       "      <td>17087.0</td>\n",
       "      <td>6.0</td>\n",
       "      <td>175.4</td>\n",
       "      <td>2017.0</td>\n",
       "      <td>-99.0</td>\n",
       "      <td>2009.0</td>\n",
       "      <td>6. Developing region</td>\n",
       "      <td>3. Upper middle income</td>\n",
       "      <td>-99.0</td>\n",
       "      <td>AV</td>\n",
       "      <td>AI</td>\n",
       "      <td>North America</td>\n",
       "      <td>Caribbean</td>\n",
       "      <td>(POLYGON ((-63.03766842399995 18.2129580750000...</td>\n",
       "    </tr>\n",
       "    <tr>\n",
       "      <th>4</th>\n",
       "      <td>Albania</td>\n",
       "      <td>Albania</td>\n",
       "      <td>3047987.0</td>\n",
       "      <td>12.0</td>\n",
       "      <td>33900.0</td>\n",
       "      <td>2017.0</td>\n",
       "      <td>2001.0</td>\n",
       "      <td>2016.0</td>\n",
       "      <td>6. Developing region</td>\n",
       "      <td>4. Lower middle income</td>\n",
       "      <td>-99.0</td>\n",
       "      <td>AL</td>\n",
       "      <td>AL</td>\n",
       "      <td>Europe</td>\n",
       "      <td>Southern Europe</td>\n",
       "      <td>POLYGON ((19.74776574700007 42.57890085900007,...</td>\n",
       "    </tr>\n",
       "  </tbody>\n",
       "</table>\n",
       "</div>"
      ],
      "text/plain": [
       "          NAME    NAME_LONG     POP_EST  POP_RANK  GDP_MD_EST  POP_YEAR  \\\n",
       "0        Aruba        Aruba    115120.0       9.0      2516.0    2017.0   \n",
       "1  Afghanistan  Afghanistan  34124811.0      15.0     64080.0    2017.0   \n",
       "2       Angola       Angola  29310273.0      15.0    189000.0    2017.0   \n",
       "3     Anguilla     Anguilla     17087.0       6.0       175.4    2017.0   \n",
       "4      Albania      Albania   3047987.0      12.0     33900.0    2017.0   \n",
       "\n",
       "   LASTCENSUS  GDP_YEAR                    ECONOMY               INCOME_GRP  \\\n",
       "0      2010.0    2009.0       6. Developing region  2. High income: nonOECD   \n",
       "1      1979.0    2016.0  7. Least developed region            5. Low income   \n",
       "2      1970.0    2016.0  7. Least developed region   3. Upper middle income   \n",
       "3       -99.0    2009.0       6. Developing region   3. Upper middle income   \n",
       "4      2001.0    2016.0       6. Developing region   4. Lower middle income   \n",
       "\n",
       "   WIKIPEDIA FIPS_10_ ISO_A2      CONTINENT        SUBREGION  \\\n",
       "0      -99.0       AA     AW  North America        Caribbean   \n",
       "1      -99.0       AF     AF           Asia    Southern Asia   \n",
       "2      -99.0       AO     AO         Africa    Middle Africa   \n",
       "3      -99.0       AV     AI  North America        Caribbean   \n",
       "4      -99.0       AL     AL         Europe  Southern Europe   \n",
       "\n",
       "                                            geometry  \n",
       "0  POLYGON ((-69.99693762899992 12.57758209800004...  \n",
       "1  POLYGON ((71.04980228700009 38.40866445000009,...  \n",
       "2  (POLYGON ((11.73751945100014 -16.6925779829998...  \n",
       "3  (POLYGON ((-63.03766842399995 18.2129580750000...  \n",
       "4  POLYGON ((19.74776574700007 42.57890085900007,...  "
      ]
     },
     "execution_count": 22,
     "metadata": {},
     "output_type": "execute_result"
    }
   ],
   "source": [
    "df_shp.head()"
   ]
  },
  {
   "cell_type": "markdown",
   "metadata": {},
   "source": [
    "### Add Area column and calculate the area of each country"
   ]
  },
  {
   "cell_type": "code",
   "execution_count": 23,
   "metadata": {
    "collapsed": true
   },
   "outputs": [],
   "source": [
    "df_shp['Area'] = None"
   ]
  },
  {
   "cell_type": "code",
   "execution_count": 24,
   "metadata": {
    "collapsed": true
   },
   "outputs": [],
   "source": [
    "for index, row in df_shp.iterrows():\n",
    "    df_shp.loc[index, 'Area'] = row['geometry'].area"
   ]
  },
  {
   "cell_type": "code",
   "execution_count": 25,
   "metadata": {},
   "outputs": [
    {
     "data": {
      "text/html": [
       "<div>\n",
       "<style>\n",
       "    .dataframe thead tr:only-child th {\n",
       "        text-align: right;\n",
       "    }\n",
       "\n",
       "    .dataframe thead th {\n",
       "        text-align: left;\n",
       "    }\n",
       "\n",
       "    .dataframe tbody tr th {\n",
       "        vertical-align: top;\n",
       "    }\n",
       "</style>\n",
       "<table border=\"1\" class=\"dataframe\">\n",
       "  <thead>\n",
       "    <tr style=\"text-align: right;\">\n",
       "      <th></th>\n",
       "      <th>NAME</th>\n",
       "      <th>NAME_LONG</th>\n",
       "      <th>POP_EST</th>\n",
       "      <th>POP_RANK</th>\n",
       "      <th>GDP_MD_EST</th>\n",
       "      <th>POP_YEAR</th>\n",
       "      <th>LASTCENSUS</th>\n",
       "      <th>GDP_YEAR</th>\n",
       "      <th>ECONOMY</th>\n",
       "      <th>INCOME_GRP</th>\n",
       "      <th>WIKIPEDIA</th>\n",
       "      <th>FIPS_10_</th>\n",
       "      <th>ISO_A2</th>\n",
       "      <th>CONTINENT</th>\n",
       "      <th>SUBREGION</th>\n",
       "      <th>geometry</th>\n",
       "      <th>Area</th>\n",
       "    </tr>\n",
       "  </thead>\n",
       "  <tbody>\n",
       "    <tr>\n",
       "      <th>0</th>\n",
       "      <td>Aruba</td>\n",
       "      <td>Aruba</td>\n",
       "      <td>115120.0</td>\n",
       "      <td>9.0</td>\n",
       "      <td>2516.0</td>\n",
       "      <td>2017.0</td>\n",
       "      <td>2010.0</td>\n",
       "      <td>2009.0</td>\n",
       "      <td>6. Developing region</td>\n",
       "      <td>2. High income: nonOECD</td>\n",
       "      <td>-99.0</td>\n",
       "      <td>AA</td>\n",
       "      <td>AW</td>\n",
       "      <td>North America</td>\n",
       "      <td>Caribbean</td>\n",
       "      <td>POLYGON ((-69.99693762899992 12.57758209800004...</td>\n",
       "      <td>0.0141189</td>\n",
       "    </tr>\n",
       "    <tr>\n",
       "      <th>1</th>\n",
       "      <td>Afghanistan</td>\n",
       "      <td>Afghanistan</td>\n",
       "      <td>34124811.0</td>\n",
       "      <td>15.0</td>\n",
       "      <td>64080.0</td>\n",
       "      <td>2017.0</td>\n",
       "      <td>1979.0</td>\n",
       "      <td>2016.0</td>\n",
       "      <td>7. Least developed region</td>\n",
       "      <td>5. Low income</td>\n",
       "      <td>-99.0</td>\n",
       "      <td>AF</td>\n",
       "      <td>AF</td>\n",
       "      <td>Asia</td>\n",
       "      <td>Southern Asia</td>\n",
       "      <td>POLYGON ((71.04980228700009 38.40866445000009,...</td>\n",
       "      <td>62.5917</td>\n",
       "    </tr>\n",
       "    <tr>\n",
       "      <th>2</th>\n",
       "      <td>Angola</td>\n",
       "      <td>Angola</td>\n",
       "      <td>29310273.0</td>\n",
       "      <td>15.0</td>\n",
       "      <td>189000.0</td>\n",
       "      <td>2017.0</td>\n",
       "      <td>1970.0</td>\n",
       "      <td>2016.0</td>\n",
       "      <td>7. Least developed region</td>\n",
       "      <td>3. Upper middle income</td>\n",
       "      <td>-99.0</td>\n",
       "      <td>AO</td>\n",
       "      <td>AO</td>\n",
       "      <td>Africa</td>\n",
       "      <td>Middle Africa</td>\n",
       "      <td>(POLYGON ((11.73751945100014 -16.6925779829998...</td>\n",
       "      <td>103.585</td>\n",
       "    </tr>\n",
       "    <tr>\n",
       "      <th>3</th>\n",
       "      <td>Anguilla</td>\n",
       "      <td>Anguilla</td>\n",
       "      <td>17087.0</td>\n",
       "      <td>6.0</td>\n",
       "      <td>175.4</td>\n",
       "      <td>2017.0</td>\n",
       "      <td>-99.0</td>\n",
       "      <td>2009.0</td>\n",
       "      <td>6. Developing region</td>\n",
       "      <td>3. Upper middle income</td>\n",
       "      <td>-99.0</td>\n",
       "      <td>AV</td>\n",
       "      <td>AI</td>\n",
       "      <td>North America</td>\n",
       "      <td>Caribbean</td>\n",
       "      <td>(POLYGON ((-63.03766842399995 18.2129580750000...</td>\n",
       "      <td>0.00689131</td>\n",
       "    </tr>\n",
       "    <tr>\n",
       "      <th>4</th>\n",
       "      <td>Albania</td>\n",
       "      <td>Albania</td>\n",
       "      <td>3047987.0</td>\n",
       "      <td>12.0</td>\n",
       "      <td>33900.0</td>\n",
       "      <td>2017.0</td>\n",
       "      <td>2001.0</td>\n",
       "      <td>2016.0</td>\n",
       "      <td>6. Developing region</td>\n",
       "      <td>4. Lower middle income</td>\n",
       "      <td>-99.0</td>\n",
       "      <td>AL</td>\n",
       "      <td>AL</td>\n",
       "      <td>Europe</td>\n",
       "      <td>Southern Europe</td>\n",
       "      <td>POLYGON ((19.74776574700007 42.57890085900007,...</td>\n",
       "      <td>3.0394</td>\n",
       "    </tr>\n",
       "  </tbody>\n",
       "</table>\n",
       "</div>"
      ],
      "text/plain": [
       "          NAME    NAME_LONG     POP_EST  POP_RANK  GDP_MD_EST  POP_YEAR  \\\n",
       "0        Aruba        Aruba    115120.0       9.0      2516.0    2017.0   \n",
       "1  Afghanistan  Afghanistan  34124811.0      15.0     64080.0    2017.0   \n",
       "2       Angola       Angola  29310273.0      15.0    189000.0    2017.0   \n",
       "3     Anguilla     Anguilla     17087.0       6.0       175.4    2017.0   \n",
       "4      Albania      Albania   3047987.0      12.0     33900.0    2017.0   \n",
       "\n",
       "   LASTCENSUS  GDP_YEAR                    ECONOMY               INCOME_GRP  \\\n",
       "0      2010.0    2009.0       6. Developing region  2. High income: nonOECD   \n",
       "1      1979.0    2016.0  7. Least developed region            5. Low income   \n",
       "2      1970.0    2016.0  7. Least developed region   3. Upper middle income   \n",
       "3       -99.0    2009.0       6. Developing region   3. Upper middle income   \n",
       "4      2001.0    2016.0       6. Developing region   4. Lower middle income   \n",
       "\n",
       "   WIKIPEDIA FIPS_10_ ISO_A2      CONTINENT        SUBREGION  \\\n",
       "0      -99.0       AA     AW  North America        Caribbean   \n",
       "1      -99.0       AF     AF           Asia    Southern Asia   \n",
       "2      -99.0       AO     AO         Africa    Middle Africa   \n",
       "3      -99.0       AV     AI  North America        Caribbean   \n",
       "4      -99.0       AL     AL         Europe  Southern Europe   \n",
       "\n",
       "                                            geometry        Area  \n",
       "0  POLYGON ((-69.99693762899992 12.57758209800004...   0.0141189  \n",
       "1  POLYGON ((71.04980228700009 38.40866445000009,...     62.5917  \n",
       "2  (POLYGON ((11.73751945100014 -16.6925779829998...     103.585  \n",
       "3  (POLYGON ((-63.03766842399995 18.2129580750000...  0.00689131  \n",
       "4  POLYGON ((19.74776574700007 42.57890085900007,...      3.0394  "
      ]
     },
     "execution_count": 25,
     "metadata": {},
     "output_type": "execute_result"
    }
   ],
   "source": [
    "df_shp.head()"
   ]
  },
  {
   "cell_type": "code",
   "execution_count": 26,
   "metadata": {},
   "outputs": [
    {
     "data": {
      "text/plain": [
       "'Antarctica'"
      ]
     },
     "execution_count": 26,
     "metadata": {},
     "output_type": "execute_result"
    }
   ],
   "source": [
    "# Which country has the largest area\n",
    "df_shp.loc[df_shp['Area'].idxmax()]['NAME']"
   ]
  },
  {
   "cell_type": "code",
   "execution_count": 27,
   "metadata": {},
   "outputs": [
    {
     "data": {
      "text/plain": [
       "'Vatican'"
      ]
     },
     "execution_count": 27,
     "metadata": {},
     "output_type": "execute_result"
    }
   ],
   "source": [
    "# Which country has the least area\n",
    "df_shp.loc[df_shp['Area'].idxmin()]['NAME']\n"
   ]
  },
  {
   "cell_type": "markdown",
   "metadata": {},
   "source": [
    "### Group by Continent"
   ]
  },
  {
   "cell_type": "code",
   "execution_count": 28,
   "metadata": {
    "collapsed": true
   },
   "outputs": [],
   "source": [
    "# Autocompleting taking too long\n",
    "%config Completer.use_jedi = False"
   ]
  },
  {
   "cell_type": "code",
   "execution_count": 29,
   "metadata": {
    "collapsed": true
   },
   "outputs": [],
   "source": [
    "grouped = df_shp.groupby('CONTINENT')\n"
   ]
  },
  {
   "cell_type": "code",
   "execution_count": 48,
   "metadata": {},
   "outputs": [],
   "source": [
    "for key, values in grouped:\n",
    "    continent = values\n"
   ]
  },
  {
   "cell_type": "markdown",
   "metadata": {},
   "source": [
    "### Exporting every continent as shapefile"
   ]
  },
  {
   "cell_type": "code",
   "execution_count": 38,
   "metadata": {
    "collapsed": true
   },
   "outputs": [],
   "source": [
    "outFolder = r\"C:/Users/Shakur/Documents/scripts/Projects_DEC17\"\n",
    "\n",
    "resultFolder = os.path.join(outFolder, 'Continents')\n",
    "\n",
    "if not os.path.exists(resultFolder):\n",
    "    os.makedirs(resultFolder)"
   ]
  },
  {
   "cell_type": "code",
   "execution_count": 41,
   "metadata": {},
   "outputs": [
    {
     "name": "stdout",
     "output_type": "stream",
     "text": [
      "Processing: Africa\n",
      "Processing: Antarctica\n",
      "Processing: Asia\n",
      "Processing: Europe\n",
      "Processing: North America\n",
      "Processing: Oceania\n",
      "Processing: Seven seas (open ocean)\n",
      "Processing: South America\n"
     ]
    }
   ],
   "source": [
    "for key, values in grouped:\n",
    "    outName = '%s.shp' % key\n",
    "    print(\"Processing: %s\" %key)\n",
    "    outPath = os.path.join(resultFolder, outName)\n",
    "    values.to_file(outPath)"
   ]
  },
  {
   "cell_type": "markdown",
   "metadata": {},
   "source": [
    "### Grouping by Subregion"
   ]
  },
  {
   "cell_type": "code",
   "execution_count": 52,
   "metadata": {},
   "outputs": [
    {
     "data": {
      "text/plain": [
       "array(['Caribbean', 'Southern Asia', 'Middle Africa', 'Southern Europe',\n",
       "       'Northern Europe', 'Western Asia', 'South America', 'Polynesia',\n",
       "       'Antarctica', 'Australia and New Zealand',\n",
       "       'Seven seas (open ocean)', 'Western Europe', 'Eastern Africa',\n",
       "       'Western Africa', 'Eastern Europe', 'Central America',\n",
       "       'Northern America', 'South-Eastern Asia', 'Southern Africa',\n",
       "       'Eastern Asia', 'Northern Africa', 'Melanesia', 'Micronesia',\n",
       "       'Central Asia'], dtype=object)"
      ]
     },
     "execution_count": 52,
     "metadata": {},
     "output_type": "execute_result"
    }
   ],
   "source": [
    "df_shp['SUBREGION'].unique()"
   ]
  },
  {
   "cell_type": "code",
   "execution_count": 49,
   "metadata": {
    "collapsed": true
   },
   "outputs": [],
   "source": [
    "subregions = df_shp.groupby('SUBREGION')"
   ]
  },
  {
   "cell_type": "markdown",
   "metadata": {},
   "source": [
    "### Exporting every subregion as shapefile"
   ]
  },
  {
   "cell_type": "code",
   "execution_count": 59,
   "metadata": {},
   "outputs": [],
   "source": [
    "outFolder = r\"C:/Users/Shakur/Documents/scripts/Projects_DEC17\"\n",
    "\n",
    "resultFolder = os.path.join(outFolder, 'Subregions')\n",
    "\n",
    "if not os.path.exists(resultFolder):\n",
    "    os.makedirs(resultFolder)"
   ]
  },
  {
   "cell_type": "code",
   "execution_count": 60,
   "metadata": {},
   "outputs": [
    {
     "name": "stdout",
     "output_type": "stream",
     "text": [
      "Processing: Antarctica\n",
      "Processing: Australia and New Zealand\n",
      "Processing: Caribbean\n",
      "Processing: Central America\n",
      "Processing: Central Asia\n",
      "Processing: Eastern Africa\n",
      "Processing: Eastern Asia\n",
      "Processing: Eastern Europe\n",
      "Processing: Melanesia\n",
      "Processing: Micronesia\n",
      "Processing: Middle Africa\n",
      "Processing: Northern Africa\n",
      "Processing: Northern America\n",
      "Processing: Northern Europe\n",
      "Processing: Polynesia\n",
      "Processing: Seven seas (open ocean)\n",
      "Processing: South America\n",
      "Processing: South-Eastern Asia\n",
      "Processing: Southern Africa\n",
      "Processing: Southern Asia\n",
      "Processing: Southern Europe\n",
      "Processing: Western Africa\n",
      "Processing: Western Asia\n",
      "Processing: Western Europe\n"
     ]
    }
   ],
   "source": [
    "for key, values in subregions:\n",
    "    outName = '%s.shp' % key\n",
    "    print(\"Processing: %s\" %key)\n",
    "    outPath = os.path.join(resultFolder, outName)\n",
    "    values.to_file(outPath)"
   ]
  },
  {
   "cell_type": "code",
   "execution_count": null,
   "metadata": {
    "collapsed": true
   },
   "outputs": [],
   "source": []
  }
 ],
 "metadata": {
  "kernelspec": {
   "display_name": "Python 3",
   "language": "python",
   "name": "python3"
  },
  "language_info": {
   "codemirror_mode": {
    "name": "ipython",
    "version": 3
   },
   "file_extension": ".py",
   "mimetype": "text/x-python",
   "name": "python",
   "nbconvert_exporter": "python",
   "pygments_lexer": "ipython3",
   "version": "3.6.3"
  }
 },
 "nbformat": 4,
 "nbformat_minor": 2
}
