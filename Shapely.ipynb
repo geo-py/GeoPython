{
 "cells": [
  {
   "cell_type": "code",
   "execution_count": 10,
   "metadata": {},
   "outputs": [],
   "source": [
    "import pandas as pd\n",
    "import geopandas as gpd\n",
    "from shapely.geometry import Point, Polygon, LineString\n",
    "from fiona.crs import from_epsg\n",
    "import matplotlib.pyplot as plt\n",
    "import folium\n",
    "import mplleaflet"
   ]
  },
  {
   "cell_type": "code",
   "execution_count": 2,
   "metadata": {},
   "outputs": [],
   "source": [
    "file = 'C:/Data/coordinates.txt'"
   ]
  },
  {
   "cell_type": "code",
   "execution_count": 3,
   "metadata": {},
   "outputs": [],
   "source": [
    "df = pd.read_csv(file, sep=';', encoding='iso-8859-1')"
   ]
  },
  {
   "cell_type": "code",
   "execution_count": 4,
   "metadata": {},
   "outputs": [
    {
     "data": {
      "text/html": [
       "<div>\n",
       "<style scoped>\n",
       "    .dataframe tbody tr th:only-of-type {\n",
       "        vertical-align: middle;\n",
       "    }\n",
       "\n",
       "    .dataframe tbody tr th {\n",
       "        vertical-align: top;\n",
       "    }\n",
       "\n",
       "    .dataframe thead th {\n",
       "        text-align: right;\n",
       "    }\n",
       "</style>\n",
       "<table border=\"1\" class=\"dataframe\">\n",
       "  <thead>\n",
       "    <tr style=\"text-align: right;\">\n",
       "      <th></th>\n",
       "      <th>id</th>\n",
       "      <th>name</th>\n",
       "      <th>lat</th>\n",
       "      <th>long</th>\n",
       "    </tr>\n",
       "  </thead>\n",
       "  <tbody>\n",
       "    <tr>\n",
       "      <th>0</th>\n",
       "      <td>101</td>\n",
       "      <td>Västerås</td>\n",
       "      <td>59.611366</td>\n",
       "      <td>16.545025</td>\n",
       "    </tr>\n",
       "    <tr>\n",
       "      <th>1</th>\n",
       "      <td>102</td>\n",
       "      <td>Umeå</td>\n",
       "      <td>63.825848</td>\n",
       "      <td>20.263035</td>\n",
       "    </tr>\n",
       "    <tr>\n",
       "      <th>2</th>\n",
       "      <td>103</td>\n",
       "      <td>Norrköping</td>\n",
       "      <td>58.588455</td>\n",
       "      <td>16.188313</td>\n",
       "    </tr>\n",
       "    <tr>\n",
       "      <th>3</th>\n",
       "      <td>104</td>\n",
       "      <td>Stockholm</td>\n",
       "      <td>59.334591</td>\n",
       "      <td>18.063240</td>\n",
       "    </tr>\n",
       "    <tr>\n",
       "      <th>4</th>\n",
       "      <td>105</td>\n",
       "      <td>Uddevalla</td>\n",
       "      <td>58.351307</td>\n",
       "      <td>11.885834</td>\n",
       "    </tr>\n",
       "    <tr>\n",
       "      <th>5</th>\n",
       "      <td>106</td>\n",
       "      <td>Västervik</td>\n",
       "      <td>57.751442</td>\n",
       "      <td>16.628838</td>\n",
       "    </tr>\n",
       "    <tr>\n",
       "      <th>6</th>\n",
       "      <td>107</td>\n",
       "      <td>Gothenburg</td>\n",
       "      <td>57.708870</td>\n",
       "      <td>11.974560</td>\n",
       "    </tr>\n",
       "    <tr>\n",
       "      <th>7</th>\n",
       "      <td>108</td>\n",
       "      <td>Visby</td>\n",
       "      <td>57.634800</td>\n",
       "      <td>18.294840</td>\n",
       "    </tr>\n",
       "  </tbody>\n",
       "</table>\n",
       "</div>"
      ],
      "text/plain": [
       "    id        name        lat       long\n",
       "0  101    Västerås  59.611366  16.545025\n",
       "1  102        Umeå  63.825848  20.263035\n",
       "2  103  Norrköping  58.588455  16.188313\n",
       "3  104   Stockholm  59.334591  18.063240\n",
       "4  105   Uddevalla  58.351307  11.885834\n",
       "5  106   Västervik  57.751442  16.628838\n",
       "6  107  Gothenburg  57.708870  11.974560\n",
       "7  108       Visby  57.634800  18.294840"
      ]
     },
     "execution_count": 4,
     "metadata": {},
     "output_type": "execute_result"
    }
   ],
   "source": [
    "df #simple dataframe consisting lat, long and couple of other columns"
   ]
  },
  {
   "cell_type": "code",
   "execution_count": 5,
   "metadata": {},
   "outputs": [],
   "source": [
    "# Create geometry from latitude and longitude.\n",
    "geometry = [Point(xy) for xy in zip(df['lat'], df['long'])]"
   ]
  },
  {
   "cell_type": "code",
   "execution_count": 6,
   "metadata": {},
   "outputs": [
    {
     "data": {
      "text/html": [
       "<div>\n",
       "<style scoped>\n",
       "    .dataframe tbody tr th:only-of-type {\n",
       "        vertical-align: middle;\n",
       "    }\n",
       "\n",
       "    .dataframe tbody tr th {\n",
       "        vertical-align: top;\n",
       "    }\n",
       "\n",
       "    .dataframe thead th {\n",
       "        text-align: right;\n",
       "    }\n",
       "</style>\n",
       "<table border=\"1\" class=\"dataframe\">\n",
       "  <thead>\n",
       "    <tr style=\"text-align: right;\">\n",
       "      <th></th>\n",
       "      <th>id</th>\n",
       "      <th>name</th>\n",
       "      <th>lat</th>\n",
       "      <th>long</th>\n",
       "      <th>geometry</th>\n",
       "    </tr>\n",
       "  </thead>\n",
       "  <tbody>\n",
       "    <tr>\n",
       "      <th>0</th>\n",
       "      <td>101</td>\n",
       "      <td>Västerås</td>\n",
       "      <td>59.611366</td>\n",
       "      <td>16.545025</td>\n",
       "      <td>POINT (59.611366 16.545025)</td>\n",
       "    </tr>\n",
       "    <tr>\n",
       "      <th>1</th>\n",
       "      <td>102</td>\n",
       "      <td>Umeå</td>\n",
       "      <td>63.825848</td>\n",
       "      <td>20.263035</td>\n",
       "      <td>POINT (63.825848 20.263035)</td>\n",
       "    </tr>\n",
       "    <tr>\n",
       "      <th>2</th>\n",
       "      <td>103</td>\n",
       "      <td>Norrköping</td>\n",
       "      <td>58.588455</td>\n",
       "      <td>16.188313</td>\n",
       "      <td>POINT (58.588455 16.188313)</td>\n",
       "    </tr>\n",
       "    <tr>\n",
       "      <th>3</th>\n",
       "      <td>104</td>\n",
       "      <td>Stockholm</td>\n",
       "      <td>59.334591</td>\n",
       "      <td>18.063240</td>\n",
       "      <td>POINT (59.334591 18.06324)</td>\n",
       "    </tr>\n",
       "    <tr>\n",
       "      <th>4</th>\n",
       "      <td>105</td>\n",
       "      <td>Uddevalla</td>\n",
       "      <td>58.351307</td>\n",
       "      <td>11.885834</td>\n",
       "      <td>POINT (58.35130699999999 11.885834)</td>\n",
       "    </tr>\n",
       "    <tr>\n",
       "      <th>5</th>\n",
       "      <td>106</td>\n",
       "      <td>Västervik</td>\n",
       "      <td>57.751442</td>\n",
       "      <td>16.628838</td>\n",
       "      <td>POINT (57.751442 16.628838)</td>\n",
       "    </tr>\n",
       "    <tr>\n",
       "      <th>6</th>\n",
       "      <td>107</td>\n",
       "      <td>Gothenburg</td>\n",
       "      <td>57.708870</td>\n",
       "      <td>11.974560</td>\n",
       "      <td>POINT (57.70887 11.97456)</td>\n",
       "    </tr>\n",
       "    <tr>\n",
       "      <th>7</th>\n",
       "      <td>108</td>\n",
       "      <td>Visby</td>\n",
       "      <td>57.634800</td>\n",
       "      <td>18.294840</td>\n",
       "      <td>POINT (57.6348 18.29484)</td>\n",
       "    </tr>\n",
       "  </tbody>\n",
       "</table>\n",
       "</div>"
      ],
      "text/plain": [
       "    id        name        lat       long                             geometry\n",
       "0  101    Västerås  59.611366  16.545025          POINT (59.611366 16.545025)\n",
       "1  102        Umeå  63.825848  20.263035          POINT (63.825848 20.263035)\n",
       "2  103  Norrköping  58.588455  16.188313          POINT (58.588455 16.188313)\n",
       "3  104   Stockholm  59.334591  18.063240           POINT (59.334591 18.06324)\n",
       "4  105   Uddevalla  58.351307  11.885834  POINT (58.35130699999999 11.885834)\n",
       "5  106   Västervik  57.751442  16.628838          POINT (57.751442 16.628838)\n",
       "6  107  Gothenburg  57.708870  11.974560            POINT (57.70887 11.97456)\n",
       "7  108       Visby  57.634800  18.294840             POINT (57.6348 18.29484)"
      ]
     },
     "execution_count": 6,
     "metadata": {},
     "output_type": "execute_result"
    }
   ],
   "source": [
    "# Create Geodataframe out of the geometry and the df\n",
    "gdf = gpd.GeoDataFrame(df, crs=from_epsg(4326), geometry=geometry)\n",
    "gdf # we have a geometry now that can be analysed, forexampel - distance between points, buffer the points etc.."
   ]
  },
  {
   "cell_type": "code",
   "execution_count": 7,
   "metadata": {},
   "outputs": [
    {
     "data": {
      "image/png": "[encoded data removed]",
      "text/plain": [
       "<matplotlib.figure.Figure at 0x26998e97780>"
      ]
     },
     "metadata": {},
     "output_type": "display_data"
    }
   ],
   "source": [
    "gdf.plot(); plt.show()"
   ]
  }
 ],
 "metadata": {
  "kernelspec": {
   "display_name": "Python 3",
   "language": "python",
   "name": "python3"
  },
  "language_info": {
   "codemirror_mode": {
    "name": "ipython",
    "version": 3
   },
   "file_extension": ".py",
   "mimetype": "text/x-python",
   "name": "python",
   "nbconvert_exporter": "python",
   "pygments_lexer": "ipython3",
   "version": "3.6.3"
  }
 },
 "nbformat": 4,
 "nbformat_minor": 2
}
